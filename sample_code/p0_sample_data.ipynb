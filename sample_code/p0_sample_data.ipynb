{
 "cells": [
  {
   "cell_type": "code",
   "execution_count": 1,
   "metadata": {},
   "outputs": [],
   "source": [
    "import os\n",
    "\n",
    "import pandas as pd\n",
    "import numpy as np\n",
    "\n",
    "from Garden.utils.data.get import Get\n",
    "from Garden.utils import path"
   ]
  },
  {
   "cell_type": "code",
   "execution_count": 2,
   "metadata": {},
   "outputs": [],
   "source": [
    "# # data의 목록을 가져온다.\n",
    "# Get.show_data_list()\n",
    "\n",
    "# # 대상 정의\n",
    "# key = Get.show_data_list()[0]\n",
    "# remove_old = True\n",
    "\n",
    "# # data download\n",
    "# Get._download(key, remove_old)"
   ]
  },
  {
   "cell_type": "code",
   "execution_count": 3,
   "metadata": {},
   "outputs": [],
   "source": [
    "captions = path.read_json(\"/mnt/d/rawdata/coco/annotations/captions_train2017.json\")\n",
    "instances = path.read_json(\"/mnt/d/rawdata/coco/annotations/instances_train2017.json\")\n",
    "person_keypoints = path.read_json(\"/mnt/d/rawdata/coco/annotations/person_keypoints_train2017.json\")\n",
    "\n",
    "captions_image_df = pd.DataFrame(captions['images'])\n",
    "\n",
    "captions_annotation_df = pd.DataFrame(captions['annotations'])\n",
    "instances_annotations_df = pd.DataFrame(instances['annotations'])\n",
    "person_keypoints_annotations_df = pd.DataFrame(person_keypoints['annotations'])\n",
    "\n",
    "image_list = os.listdir(\"../sample_data/image/coco/images/\")"
   ]
  },
  {
   "cell_type": "code",
   "execution_count": 4,
   "metadata": {},
   "outputs": [
    {
     "name": "stdout",
     "output_type": "stream",
     "text": [
      "captions:  dict_keys(['info', 'licenses', 'images', 'annotations'])\n",
      "instances:  dict_keys(['info', 'licenses', 'images', 'annotations', 'categories'])\n",
      "person_keypoints:  dict_keys(['info', 'licenses', 'images', 'annotations', 'categories'])\n"
     ]
    }
   ],
   "source": [
    "print(\"captions: \", captions.keys())\n",
    "print(\"instances: \", instances.keys())\n",
    "print(\"person_keypoints: \", person_keypoints.keys())"
   ]
  },
  {
   "cell_type": "code",
   "execution_count": 5,
   "metadata": {},
   "outputs": [],
   "source": [
    "target_img_df = captions_image_df[captions_image_df[\"file_name\"].isin(image_list)]"
   ]
  },
  {
   "cell_type": "code",
   "execution_count": 6,
   "metadata": {},
   "outputs": [],
   "source": [
    "# sample로 추려진 이미지들에 대한 images의 결과\n",
    "sample_info = {\n",
    "    'description':'COCO 2017 Dataset(Sample)',\n",
    "    'description(Sample)':'I have selected a sample of 50 images from the COCO dataset that correspond to licenses 4 and 7.',\n",
    "    'url': 'http://cocodataset.org',\n",
    "    'version': '1.0',\n",
    "    'contributor': 'COCO Consortium',\n",
    "    'date_created': '2017/09/01'\n",
    "}\n",
    "sample_images = [value for _, value in target_img_df.to_dict(orient='index').items()]\n",
    "sample_licenses = [captions['licenses'][3], captions['licenses'][6]]\n",
    "\n",
    "# caption\n",
    "sample_imgs_id = pd.DataFrame(sample_images)['id'].to_list()\n",
    "sample_captions = [value for _, value in captions_annotation_df[captions_annotation_df[\"id\"].isin(sample_imgs_id)].to_dict('index').items()]\n",
    "sample_instances = [value for _, value in instances_annotations_df[instances_annotations_df[\"id\"].isin(sample_imgs_id)].to_dict('index').items()]\n",
    "sample_person_keypoints = [value for _, value in person_keypoints_annotations_df[person_keypoints_annotations_df[\"id\"].isin(sample_imgs_id)].to_dict('index').items()]"
   ]
  },
  {
   "cell_type": "code",
   "execution_count": 7,
   "metadata": {},
   "outputs": [],
   "source": [
    "result = {\n",
    "    'info':sample_info,\n",
    "    'licenses':sample_licenses,\n",
    "    'images':sample_images,\n",
    "    'annotation':{\n",
    "        'caption':sample_captions,\n",
    "        'instances':sample_instances,\n",
    "        'person_keypoints':sample_person_keypoints\n",
    "    },\n",
    "    'categories':{\n",
    "        'instance':instances['categories'],\n",
    "        'person_keypoints':person_keypoints['categories']\n",
    "    }\n",
    "}"
   ]
  },
  {
   "cell_type": "code",
   "execution_count": 9,
   "metadata": {},
   "outputs": [],
   "source": [
    "path.write_json(result, 'annotations_sample.json')"
   ]
  },
  {
   "cell_type": "code",
   "execution_count": null,
   "metadata": {},
   "outputs": [],
   "source": []
  },
  {
   "cell_type": "code",
   "execution_count": null,
   "metadata": {},
   "outputs": [],
   "source": []
  },
  {
   "cell_type": "code",
   "execution_count": null,
   "metadata": {},
   "outputs": [],
   "source": []
  },
  {
   "cell_type": "code",
   "execution_count": null,
   "metadata": {},
   "outputs": [],
   "source": []
  },
  {
   "cell_type": "code",
   "execution_count": null,
   "metadata": {},
   "outputs": [],
   "source": []
  },
  {
   "cell_type": "code",
   "execution_count": null,
   "metadata": {},
   "outputs": [],
   "source": []
  },
  {
   "cell_type": "code",
   "execution_count": null,
   "metadata": {},
   "outputs": [],
   "source": []
  },
  {
   "cell_type": "code",
   "execution_count": null,
   "metadata": {},
   "outputs": [],
   "source": []
  },
  {
   "cell_type": "code",
   "execution_count": null,
   "metadata": {},
   "outputs": [],
   "source": []
  }
 ],
 "metadata": {
  "kernelspec": {
   "display_name": "dev_e4",
   "language": "python",
   "name": "python3"
  },
  "language_info": {
   "codemirror_mode": {
    "name": "ipython",
    "version": 3
   },
   "file_extension": ".py",
   "mimetype": "text/x-python",
   "name": "python",
   "nbconvert_exporter": "python",
   "pygments_lexer": "ipython3",
   "version": "3.11.10"
  }
 },
 "nbformat": 4,
 "nbformat_minor": 2
}
